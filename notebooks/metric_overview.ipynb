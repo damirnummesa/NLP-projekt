{
 "cells": [
  {
   "cell_type": "code",
   "execution_count": 1,
   "metadata": {},
   "outputs": [
    {
     "name": "stdout",
     "output_type": "stream",
     "text": [
      "c:\\Users\\admin\\Desktop\\Matej\\FER\\Diplomski\\3.semestar\\NLP\\NLP-projekt\n"
     ]
    }
   ],
   "source": [
    "%load_ext autoreload\n",
    "%autoreload 2\n",
    "\n",
    "%cd .."
   ]
  },
  {
   "cell_type": "code",
   "execution_count": 4,
   "metadata": {},
   "outputs": [],
   "source": [
    "import os\n",
    "import json\n",
    "import pandas as pd"
   ]
  },
  {
   "cell_type": "code",
   "execution_count": 3,
   "metadata": {},
   "outputs": [],
   "source": [
    "query_types = ['desc', 'geo', 'infer']\n",
    "BASE_METRICS_DIR = 'data/metrics/'"
   ]
  },
  {
   "cell_type": "code",
   "execution_count": null,
   "metadata": {},
   "outputs": [],
   "source": [
    "evaluation_data =[]\n",
    "for evaluated_model in os.listdir(BASE_METRICS_DIR):\n",
    "    for query_type in query_types:\n",
    "        relevant_metrics_dir = f'{BASE_METRICS_DIR}{evaluated_model}/{query_type}/'\n",
    "        for metrics_result_file in os.listdir(relevant_metrics_dir):\n",
    "            with open(f'{relevant_metrics_dir}{metrics_result_file}', 'r') as f:\n",
    "                metrics_result_dict = json.load(f)\n",
    "                metrics_result_dict['QUERY_TYPE'] = query_type\n",
    "                evaluation_data.append(metrics_result_dict)"
   ]
  },
  {
   "cell_type": "code",
   "execution_count": null,
   "metadata": {},
   "outputs": [],
   "source": [
    "evaluation_df = pd.DataFrame(evaluation_data)\n",
    "grouped_df = evaluation_df.groupby(['MODEL_ID', 'QUERY_TYPE']).mean().reset_index()"
   ]
  }
 ],
 "metadata": {
  "kernelspec": {
   "display_name": "nlp",
   "language": "python",
   "name": "python3"
  },
  "language_info": {
   "codemirror_mode": {
    "name": "ipython",
    "version": 3
   },
   "file_extension": ".py",
   "mimetype": "text/x-python",
   "name": "python",
   "nbconvert_exporter": "python",
   "pygments_lexer": "ipython3",
   "version": "3.12.3"
  }
 },
 "nbformat": 4,
 "nbformat_minor": 2
}
