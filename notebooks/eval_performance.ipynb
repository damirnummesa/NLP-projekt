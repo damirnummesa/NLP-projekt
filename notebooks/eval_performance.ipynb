{
 "cells": [
  {
   "cell_type": "code",
   "execution_count": 1,
   "metadata": {},
   "outputs": [
    {
     "name": "stdout",
     "output_type": "stream",
     "text": [
      "c:\\Users\\admin\\Desktop\\Matej\\FER\\Diplomski\\3.semestar\\NLP\\NLP-projekt\n"
     ]
    }
   ],
   "source": [
    "%load_ext autoreload\n",
    "%autoreload 2\n",
    "\n",
    "%cd .."
   ]
  },
  {
   "cell_type": "code",
   "execution_count": 19,
   "metadata": {},
   "outputs": [
    {
     "name": "stderr",
     "output_type": "stream",
     "text": [
      "[nltk_data] Downloading package wordnet to\n",
      "[nltk_data]     C:\\Users\\admin\\AppData\\Roaming\\nltk_data...\n",
      "[nltk_data]   Package wordnet is already up-to-date!\n",
      "[nltk_data] Downloading package omw-1.4 to\n",
      "[nltk_data]     C:\\Users\\admin\\AppData\\Roaming\\nltk_data...\n",
      "[nltk_data]   Package omw-1.4 is already up-to-date!\n",
      "[nltk_data] Downloading package punkt to\n",
      "[nltk_data]     C:\\Users\\admin\\AppData\\Roaming\\nltk_data...\n",
      "[nltk_data]   Package punkt is already up-to-date!\n"
     ]
    }
   ],
   "source": [
    "import os\n",
    "import json\n",
    "from utils.evaluation import evaluate_metrics"
   ]
  },
  {
   "cell_type": "code",
   "execution_count": 4,
   "metadata": {},
   "outputs": [],
   "source": [
    "def get_code_result(query: str, model_id: str) -> str:\n",
    "    pass"
   ]
  },
  {
   "cell_type": "code",
   "execution_count": 7,
   "metadata": {},
   "outputs": [],
   "source": [
    "query_types = ['desc', 'geo', 'infer']\n",
    "BASE_QUERY_DIR = 'data/user_query/'\n",
    "BASE_CORRECT_RESULT_DIR = 'data/user_query_result/'\n",
    "BASE_GENERATED_DIR = 'data/user_query_generated/'\n",
    "BASE_METRICS_DIR = 'data/metrics/'\n",
    "\n",
    "model_id = ''"
   ]
  },
  {
   "cell_type": "code",
   "execution_count": null,
   "metadata": {},
   "outputs": [
    {
     "name": "stdout",
     "output_type": "stream",
     "text": [
      "10\n",
      "10\n",
      "10\n"
     ]
    }
   ],
   "source": [
    "for query_type in query_types:\n",
    "    query_count = len(os.listdir(BASE_QUERY_DIR + query_type))\n",
    "    os.makedirs(f\"{BASE_GENERATED_DIR}{query_type}\", exist_ok=True)\n",
    "    os.makedirs(f\"{BASE_METRICS_DIR}{model_id}/{query_type}\", exist_ok=True)\n",
    "    for file in os.listdir(BASE_QUERY_DIR + query_type):\n",
    "        query_index = int(file.split('.')[0])\n",
    "        \n",
    "        query = open(f\"{BASE_QUERY_DIR}{query_type}/{file}\", 'r').read()\n",
    "        correct_result = open(f\"{BASE_CORRECT_RESULT_DIR}{query_type}/{file}\", 'r').read()\n",
    "        generated_result = get_code_result(query, model_id)\n",
    "        \n",
    "        open(f\"{BASE_GENERATED_DIR}{query_type}/{query_index}.txt\", 'w').write(generated_result)\n",
    "        \n",
    "        metrics = evaluate_metrics(correct_result, generated_result)\n",
    "        metrics.MODEL_ID = model_id\n",
    "        with open(f\"{BASE_METRICS_DIR}{model_id}/{query_type}/{query_index}.json\", 'w') as f:\n",
    "            json.dump(metrics.model_dump(), f, indent=4)"
   ]
  }
 ],
 "metadata": {
  "kernelspec": {
   "display_name": "nlp",
   "language": "python",
   "name": "python3"
  },
  "language_info": {
   "codemirror_mode": {
    "name": "ipython",
    "version": 3
   },
   "file_extension": ".py",
   "mimetype": "text/x-python",
   "name": "python",
   "nbconvert_exporter": "python",
   "pygments_lexer": "ipython3",
   "version": "3.12.3"
  }
 },
 "nbformat": 4,
 "nbformat_minor": 2
}
