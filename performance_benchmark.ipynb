{
 "cells": [
  {
   "cell_type": "code",
   "execution_count": null,
   "metadata": {},
   "outputs": [],
   "source": [
    "import os\n",
    "from metrics import evaluate_metrics, MetricsResult"
   ]
  },
  {
   "cell_type": "code",
   "execution_count": null,
   "metadata": {},
   "outputs": [],
   "source": [
    "def get_code_result(query: str) -> str:\n",
    "    pass"
   ]
  },
  {
   "cell_type": "code",
   "execution_count": null,
   "metadata": {},
   "outputs": [],
   "source": [
    "descriptive_statistics = [\n",
    "    \"Which land type (LC0_Desc) has the highest 'pH_H2O'.\", \n",
    "    \"Plot the average ‘OC’ for each land type (LC0_Desc). save it as a png.\", \n",
    "    \"Calculate the average pH for south EU.\", \n",
    "    \"Calculate the average pH for Austria, from the mentioned csv.\", \n",
    "    \"Calculate the max value of 'N' for Slovenia, from the mentioned csv.\", \n",
    "    \"Calculate the summary statistics for all numerical columns in the dataset.\",\n",
    "    \"Generate a correlation matrix of these columns: EC, pH_CaCl2, pH_H2O, OC, CaCO3, P, N, K and visualize it using a heatmap.\",\n",
    "    \"Plot the distribution of 'K' with a KDE overlay. save it as a png.\",\n",
    "    \"Calculate the average 'K' for rows where 'EC' is greater than 10.\",\n",
    "    \"Find the sum of 'K' for each unique value in the 'LC0_Desc' column. print the result.\"\n",
    "] \n",
    "\n",
    "inferential_statistics  = [\n",
    "    \"Is there a significant relationship between land type (LC0_Desc) and pH_H2O? Use chi square from scipy.\",\n",
    "    \"Is there a significant difference between 'N' in Austria and France? Use ANOVA from scipy.\",\n",
    "    \"Which parameter has the strongest correlation with EC among {pH_CaCl2, pH_H2O, OC, CaCO3, P, N, K}?\",\n",
    "    \"Perform a t-test to compare 'K' between Grassland and Cropland.\",\n",
    "    \"Plot a linear regression analysis to see the relationship between 'pH_H2O' and 'K'.\",\n",
    "    \"Construct a 95% confidence interval for the mean 'OC' content in the dataset.\",\n",
    "    \"Using the Central Limit Theorem, simulate the sampling distribution of the mean 'pH_H2O' for sample sizes of 30. Plot the distribution and compare it to the normal distribution.\",\n",
    "    \"Calculate the z-scores for 'EC' and identify any outliers (z-score > 3 or < -3).\",\n",
    "    \"Perform a hypothesis test to determine if the mean 'K' content in the entire dataset is significantly different from 2%. Use a t-test for the hypothesis test.\",\n",
    "    \"Calculate the p-value for the correlation between 'P' and 'K'. Determine if the correlation is statistically significant.\"\n",
    "]\n",
    "\n",
    "geo_information = [\n",
    "    \"Plot all the points that have pH_CaCl2 > 6. use geopandas. save the image as a png.\",\n",
    "    \"Plot all the points with LC0_Desc=Woodland in Europe. Save the result as a png. Use geopandas.\",\n",
    "    \"Plot all the points with LC0_Desc=Woodland & pH<6 in Europe. Save the result as a png. Use geopandas.\",\n",
    "    \"Perform KMeans clustering on the TH_LAT and TH_LONG data to identify 3 clusters and plot them on a map. save it as a png.\",\n",
    "    \"Create a map with markers for all locations where 'K' is above its median value, in Europe. use geopandas. save the result as a png.\",\n",
    "    \"Generate a heatmap where each point is weighted by 'pH_CaCl2', in Europe. Don't merge these shapefiles just plot them. use geopandas. save the result as a png.\",\n",
    "    \"Create a map with markers for points where 'K' is in the top 10 percentile, in Europe. Don't merge these shapefiles just plot them. use geopandas. save the result as a png.\",\n",
    "    \"Plot clusters of points with 'pH_H2O'>5 and 'pH_H2O'<5 in Europe.\",\n",
    "    \"Create a map displaying the distribution of soil types ('LC0_Desc') across Europe. Each soil type should be represented by a different color. Use geopandas and save the map as a png.\",\n",
    "    \"Plot all the LC0_Desc='Grassland' and LC0_Desc='Woodland' points where 'OC'>20. Use geopandas and save the map as a png.\"\n",
    "] "
   ]
  }
 ],
 "metadata": {
  "kernelspec": {
   "display_name": "NLP",
   "language": "python",
   "name": "python3"
  },
  "language_info": {
   "name": "python",
   "version": "3.12.8"
  }
 },
 "nbformat": 4,
 "nbformat_minor": 2
}
